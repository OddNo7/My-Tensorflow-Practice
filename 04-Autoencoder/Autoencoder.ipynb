{
 "cells": [
  {
   "cell_type": "markdown",
   "metadata": {},
   "source": [
    "# Autoencoder"
   ]
  },
  {
   "cell_type": "markdown",
   "metadata": {},
   "source": [
    "credit: https://blog.keras.io/building-autoencoders-in-keras.html \n",
    "\n",
    "https://github.com/nlintz/TensorFlow-Tutorials/blob/master/06_autoencoder.ipynb\n",
    "\n",
    "The Keras blog introduces autoencoder and has source code written in Keras. The code from `nlintz` deals with a special de-noising autoencoder that takes in corrupted images and recovers them.\n",
    "\n",
    "What is strange is that Keras takes 50 epochs to reach a fairly good outcome. However with TensorFlow it took me a lot of epochs to reach a good result (~ 4000). I guess it's something to do with intialization. \n",
    "\n",
    "If you have any suggestions please feel free to point out. "
   ]
  },
  {
   "cell_type": "code",
   "execution_count": null,
   "metadata": {
    "collapsed": true
   },
   "outputs": [],
   "source": [
    "# Import modules\n",
    "% matplotlib inline\n",
    "from matplotlib import pyplot as plt\n",
    "import tensorflow as tf\n",
    "import numpy as np\n",
    "from tensorflow.examples.tutorials.mnist import input_data\n",
    "# Load data\n",
    "mnist = input_data.read_data_sets('MNIST_data', one_hot=True)"
   ]
  },
  {
   "cell_type": "code",
   "execution_count": null,
   "metadata": {
    "collapsed": true
   },
   "outputs": [],
   "source": [
    "# We implement a one-layer encoder and a one-layer decoder. The coded message has dimension 32. The input mnist images are\n",
    "# dimension 784 vectors.\n",
    "encoding_dim = 32\n",
    "input_dim = 784\n",
    "\n",
    "init_max = 4 * np.sqrt(6. / (encoding_dim + input_dim))\n",
    "\n",
    "# Define one-layer encoder\n",
    "x = tf.placeholder(tf.float32, [None, input_dim], name='x')\n",
    "W_encode = tf.Variable(tf.random_uniform([input_dim, encoding_dim], minval=-init_max, maxval=init_max))\n",
    "b_encode = tf.Variable(tf.zeros([encoding_dim, ]))\n",
    "encoded_input = tf.nn.relu(tf.matmul(x, W_encode) + b_encode)\n",
    "\n",
    "# Define one-layer decoder\n",
    "W_decode = tf.transpose(W_encode)\n",
    "b_decode = tf.Variable(tf.zeros([input_dim, ]))\n",
    "decoded_input = tf.nn.sigmoid(tf.matmul(encoded_input, W_decode) + b_decode)\n",
    "\n",
    "# Define loss function and optimizer. Set sum square error and AdaDelta optimizer. For prediction we add another node.\n",
    "loss = tf.reduce_sum(tf.pow(decoded_input - x, 2))\n",
    "op = tf.train.AdadeltaOptimizer().minimize(loss)\n",
    "prediction = decoded_input\n",
    "\n",
    "# data for trianing. data_test for testing our trained autoencoder.\n",
    "data = mnist.train.images\n",
    "data_test = mnist.test.images\n",
    "num_samples = data.shape[0]\n",
    "batch_size = 50"
   ]
  },
  {
   "cell_type": "code",
   "execution_count": null,
   "metadata": {
    "collapsed": true
   },
   "outputs": [],
   "source": [
    "with tf.Session() as sess:\n",
    "    sess.run(tf.global_variables_initializer())\n",
    "    epoch = 0\n",
    "    l = sess.run([loss], feed_dict = {x: data})\n",
    "# To achieve good outcome I didn't use specified number of epochs, but specify the expected total loss and the training run.\n",
    "# Each epoch returns a total loss on the training data.\n",
    "    while l[0] > 1e6:\n",
    "        epoch = epoch + 1\n",
    "        for i in range(num_samples // batch_size):\n",
    "            feed_in = data[i * batch_size:(i + 1) * batch_size, :]\n",
    "            sess.run([op], feed_dict={x: feed_in})\n",
    "        l = sess.run([loss], feed_dict={x: data})\n",
    "        print('epoch {}, loss {}'.format(epoch, l))\n",
    "    test_output = sess.run([prediction], feed_dict={x: data_test})\n",
    "    print('Optimization complete.')"
   ]
  },
  {
   "cell_type": "code",
   "execution_count": 37,
   "metadata": {},
   "outputs": [
    {
     "data": {
      "image/png": "[encoded data removed]",
      "text/plain": [
       "<matplotlib.figure.Figure at 0x1baf13fb668>"
      ]
     },
     "metadata": {},
     "output_type": "display_data"
    }
   ],
   "source": [
    "# display the test output. This block of code is excerpted from the code piece from Keras blog. \n",
    "test_output = np.array(test_output)\n",
    "test_output = np.squeeze(test_output, 0)\n",
    "n = 10\n",
    "plt.figure(figsize=(20, 4))\n",
    "for i in range(n):\n",
    "    # display original\n",
    "    ax = plt.subplot(2, n, i + 1)\n",
    "    plt.imshow(data_test[i, :].reshape(28, 28))\n",
    "    plt.gray()\n",
    "    ax.get_xaxis().set_visible(False)\n",
    "    ax.get_yaxis().set_visible(False)\n",
    "\n",
    "    # display reconstruction\n",
    "    ax = plt.subplot(2, n, i + 1 + n)\n",
    "    plt.imshow(test_output[i, :].reshape(28, 28))\n",
    "    plt.gray()\n",
    "    ax.get_xaxis().set_visible(False)\n",
    "    ax.get_yaxis().set_visible(False)\n",
    "plt.show()"
   ]
  },
  {
   "cell_type": "code",
   "execution_count": null,
   "metadata": {
    "collapsed": true
   },
   "outputs": [],
   "source": []
  }
 ],
 "metadata": {
  "kernelspec": {
   "display_name": "Python 3",
   "language": "python",
   "name": "python3"
  },
  "language_info": {
   "codemirror_mode": {
    "name": "ipython",
    "version": 3
   },
   "file_extension": ".py",
   "mimetype": "text/x-python",
   "name": "python",
   "nbconvert_exporter": "python",
   "pygments_lexer": "ipython3",
   "version": "3.5.3"
  }
 },
 "nbformat": 4,
 "nbformat_minor": 1
}
