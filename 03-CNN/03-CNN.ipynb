{
 "cells": [
  {
   "cell_type": "markdown",
   "metadata": {},
   "source": [
    "# Convolutional Neural Networks"
   ]
  },
  {
   "cell_type": "code",
   "execution_count": null,
   "metadata": {
    "collapsed": true
   },
   "outputs": [],
   "source": [
    "import tensorflow as tf\n",
    "from CNNutils import load_data, preprocess_image, BatchGenerator"
   ]
  },
  {
   "cell_type": "code",
   "execution_count": null,
   "metadata": {
    "collapsed": true
   },
   "outputs": [],
   "source": [
    "# Load cifar-10 dataset, use the first 1000 test samples for testing\n",
    "train_set = load_data(mode='train')\n",
    "test_set = load_data(mode='test')\n",
    "Xtrain, Ytrain = preprocess_image(train_set)\n",
    "Xtest, Ytest = preprocess_image(test_set)\n",
    "Xtest = Xtest[:1000, :, :, :]\n",
    "Ytest = Ytest[:1000]\n",
    "\n",
    "# Create batch generator. Set mini-batch size.\n",
    "gen = BatchGenerator(Xtrain, Ytrain, batch_size=128).initialize()\n",
    "batch_size = 128\n",
    "num_samples = Xtrain.shape[0]\n",
    "image_size = Xtrain.shape[1]\n",
    "image_channel = Xtrain.shape[3]"
   ]
  },
  {
   "cell_type": "code",
   "execution_count": null,
   "metadata": {
    "collapsed": true
   },
   "outputs": [],
   "source": [
    "# Begin the construction of neural network\n",
    "# Define input, weights, biases.\n",
    "X = tf.placeholder(tf.float32, [None, image_size, image_size, image_channel])\n",
    "Y = tf.placeholder(tf.int64, [None])\n",
    "Y_hot = tf.one_hot(Y, depth=10, on_value=1, off_value=0)\n",
    "\n",
    "weights = {\n",
    "    'conv1': tf.Variable(tf.random_normal([3, 3, 3, 32])),\n",
    "    'conv2': tf.Variable(tf.random_normal([3, 3, 32, 64])),\n",
    "    'conv3': tf.Variable(tf.random_normal([3, 3, 64, 64])),\n",
    "    'fc1': tf.Variable(tf.random_normal([8 * 8 * 64, 1024])),\n",
    "    'fc2': tf.Variable(tf.random_normal([1024, 10]))\n",
    "}\n",
    "\n",
    "bias = {\n",
    "    'fc1': tf.Variable(tf.random_normal([1024])),\n",
    "    'fc2': tf.Variable(tf.random_normal([10]))\n",
    "}"
   ]
  },
  {
   "cell_type": "code",
   "execution_count": null,
   "metadata": {
    "collapsed": true
   },
   "outputs": [],
   "source": [
    "# Network strcutre:\n",
    "# Convolution -> Convolution -> flatten -> fully connect -> fully connect\n",
    "conv1 = tf.nn.conv2d(X, weights['conv1'], strides=[1, 1, 1, 1],\n",
    "                     padding='SAME', use_cudnn_on_gpu=True)\n",
    "conv1 = tf.nn.relu(conv1)\n",
    "conv1 = tf.nn.max_pool(conv1, ksize=[1, 2, 2, 1], strides=[1, 2, 2, 1],\n",
    "                       padding='SAME')\n",
    "conv2 = tf.nn.conv2d(conv1, weights['conv2'], strides=[1, 1, 1, 1],\n",
    "                     padding='SAME', use_cudnn_on_gpu=True)\n",
    "conv2 = tf.nn.relu(conv2)\n",
    "conv2 = tf.nn.max_pool(conv2, ksize=[1, 2, 2, 1], strides=[1, 2, 2, 1],\n",
    "                       padding='SAME')\n",
    "flat1 = tf.contrib.layers.flatten(conv2)\n",
    "fc1 = tf.add(tf.matmul(flat1, weights['fc1']), bias['fc1'])\n",
    "fc1 = tf.nn.relu(fc1)\n",
    "fc2 = tf.add(tf.matmul(fc1, weights['fc2']), bias['fc2'])\n",
    "\n",
    "loss = tf.reduce_mean(tf.nn.softmax_cross_entropy_with_logits(labels=Y_hot, logits=fc2))\n",
    "optimizer = tf.train.AdamOptimizer(learning_rate=0.001).minimize(loss)\n",
    "\n",
    "correct_pred = tf.equal(tf.argmax(fc2, axis=1), Y)\n",
    "accr = tf.reduce_mean(tf.cast(correct_pred, tf.float32))"
   ]
  },
  {
   "cell_type": "code",
   "execution_count": null,
   "metadata": {
    "collapsed": true
   },
   "outputs": [],
   "source": [
    "init = tf.global_variables_initializer()\n",
    "with tf.Session() as sess:\n",
    "    sess.run(init)\n",
    "    for epoch in range(10):\n",
    "        for batch_idx in range(num_samples // batch_size):\n",
    "            xbatch, ybatch = next(gen)\n",
    "            test, _ = sess.run([loss, optimizer], feed_dict={X: xbatch, Y: ybatch})\n",
    "            if batch_idx % 50 == 0:\n",
    "                print('Batch {}, batch loss: {:.5f}'.format(batch_idx, test))\n",
    "    accuracy = sess.run([accr], feed_dict={X: xbatch, Y: ybatch})\n",
    "    print('Accuracy is {}'.format(accuracy))"
   ]
  },
  {
   "cell_type": "markdown",
   "metadata": {},
   "source": [
    "That should achieve an accuracy of approximately 60%."
   ]
  }
 ],
 "metadata": {
  "kernelspec": {
   "display_name": "Python 3",
   "language": "python",
   "name": "python3"
  },
  "language_info": {
   "codemirror_mode": {
    "name": "ipython",
    "version": 3
   },
   "file_extension": ".py",
   "mimetype": "text/x-python",
   "name": "python",
   "nbconvert_exporter": "python",
   "pygments_lexer": "ipython3",
   "version": "3.5.3"
  }
 },
 "nbformat": 4,
 "nbformat_minor": 1
}
