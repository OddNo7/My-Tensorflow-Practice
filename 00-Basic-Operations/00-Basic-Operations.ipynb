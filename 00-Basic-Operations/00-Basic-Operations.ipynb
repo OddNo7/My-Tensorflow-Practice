{
 "cells": [
  {
   "cell_type": "markdown",
   "metadata": {},
   "source": [
    "# 00-Basic Operations"
   ]
  },
  {
   "cell_type": "markdown",
   "metadata": {},
   "source": [
    "My-Tensorflow-Practice\n",
    "\n",
    "00-Basic-Operations\n",
    "\n",
    "Author: OddNo7\n",
    "\n",
    "Last modified: 2017/04/13"
   ]
  },
  {
   "cell_type": "code",
   "execution_count": null,
   "metadata": {
    "collapsed": true
   },
   "outputs": [],
   "source": [
    "import tensorflow as tf\n",
    "import numpy as np"
   ]
  },
  {
   "cell_type": "markdown",
   "metadata": {},
   "source": [
    "# Constant addition, reduction, multiplication and division"
   ]
  },
  {
   "cell_type": "code",
   "execution_count": null,
   "metadata": {},
   "outputs": [],
   "source": [
    "a = tf.constant(3, dtype=tf.float32, name='a')\n",
    "b = tf.constant(4, dtype=tf.float32, name='b')\n",
    "c = a + b\n",
    "d = a - b\n",
    "e = a * b\n",
    "f = a / b\n",
    "\n",
    "# Run the computational graph\n",
    "sess = tf.Session()\n",
    "print(sess.run([c, d, e, f]))"
   ]
  },
  {
   "cell_type": "markdown",
   "metadata": {},
   "source": [
    "# Placeholder"
   ]
  },
  {
   "cell_type": "code",
   "execution_count": null,
   "metadata": {},
   "outputs": [],
   "source": [
    "# A placeholder must be fed with data. On definition of a place holder dtype must be specified. \n",
    "# One can also specify name and shape.\n",
    "# The feeding usually goes with 'feed_dict' argument.\n",
    "a = tf.placeholder(tf.float32)\n",
    "b = tf.placeholder(tf.float32)\n",
    "with tf.Session() as sess:\n",
    "    print(sess.run(a + b, feed_dict={a: 3, b: 4}))\n"
   ]
  },
  {
   "cell_type": "markdown",
   "metadata": {},
   "source": [
    "# Variables"
   ]
  },
  {
   "cell_type": "code",
   "execution_count": null,
   "metadata": {},
   "outputs": [],
   "source": [
    "# A variable is a value that can be trained during the running of a graph.\n",
    "# A variable needs to be designated an initial value when created. On\n",
    "# computation, this initial value need to be assigned as a initialization\n",
    "# process.\n",
    "W = tf.Variable(2.0, tf.float32, name='W')\n",
    "b = tf.Variable(3.5, tf.float32, name='b')\n",
    "x = tf.placeholder(tf.float32, name='x')\n",
    "line = W * x + b\n",
    "init = tf.global_variables_initializer()\n",
    "# For initialization, one can call a variable's method 'initializer' to\n",
    "# initiate the value, or use global initializer.\n",
    "\n",
    "with tf.Session() as sess:\n",
    "    sess.run(init)\n",
    "    print(sess.run(line, feed_dict={x: [1, 2, 3, 4]}))"
   ]
  },
  {
   "cell_type": "markdown",
   "metadata": {},
   "source": [
    "# Loss function / Optimizer"
   ]
  },
  {
   "cell_type": "code",
   "execution_count": null,
   "metadata": {},
   "outputs": [],
   "source": [
    "# Loss function. To evaluate how good a model is, we need to find a loss function,\n",
    "# With loss function we can try to train the variables so that the model\n",
    "# fits the fed data.\n",
    "y = tf.placeholder(tf.float32, name='y')\n",
    "with tf.name_scope('Loss'):\n",
    "    MSE = tf.reduce_mean(tf.square(line - y), name='MSE')\n",
    "with tf.name_scope('SGD'):\n",
    "    optimizer = tf.train.GradientDescentOptimizer(0.02).minimize(MSE)\n",
    "\n",
    "xtr = np.array([1.0, 2.0, 3.0, 4.0])\n",
    "ytr = np.array([2.0, 3.0, 4.0, 5.0])\n",
    "# Now one needs to minimize the loss function. To do that, we need to call some optimizer.\n",
    "# tf.train provides several optimizers. We can use the basic one and build\n",
    "# an instance, and call its minimize method.\n",
    "with tf.Session() as sess:\n",
    "    init = tf.global_variables_initializer()\n",
    "    sess.run(init)\n",
    "    for epoch in range(2000):\n",
    "        if epoch % 100 == 0:\n",
    "            print('Reaching {}00-th epoch'.format(epoch // 100))\n",
    "            print(sess.run(MSE, feed_dict={x: xtr, y: ytr}))\n",
    "        sess.run(optimizer, feed_dict={x: xtr, y: ytr})\n",
    "    print(sess.run([W, b]))\n"
   ]
  }
 ],
 "metadata": {
  "kernelspec": {
   "display_name": "Python 3",
   "language": "python",
   "name": "python3"
  },
  "language_info": {
   "codemirror_mode": {
    "name": "ipython",
    "version": 3
   },
   "file_extension": ".py",
   "mimetype": "text/x-python",
   "name": "python",
   "nbconvert_exporter": "python",
   "pygments_lexer": "ipython3",
   "version": "3.5.3"
  }
 },
 "nbformat": 4,
 "nbformat_minor": 1
}
