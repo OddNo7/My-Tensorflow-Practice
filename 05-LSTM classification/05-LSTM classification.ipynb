{
 "cells": [
  {
   "cell_type": "markdown",
   "metadata": {},
   "source": [
    "# 05-LSTM classification"
   ]
  },
  {
   "cell_type": "markdown",
   "metadata": {},
   "source": [
    "credit: https://github.com/aymericdamien/TensorFlow-Examples/blob/master/examples/3_NeuralNetworks/recurrent_network.py\n",
    "\n",
    "An LSTM network for image classification problem. A many-to-one configuration according to http://karpathy.github.io/2015/05/21/rnn-effectiveness/.\n",
    "\n",
    "Trained on CIFAR-10 dataset.\n",
    "\n",
    "Original data size: (32,32,3)\n",
    "\n",
    "Input data size: (32, 96) --> (data_dimension, sequence_length)\n",
    "\n",
    "Training this example didn't get high accuracy, compared to training on MNIST dataset."
   ]
  },
  {
   "cell_type": "code",
   "execution_count": 2,
   "metadata": {
    "collapsed": true
   },
   "outputs": [],
   "source": [
    "# Import modules\n",
    "% matplotlib inline\n",
    "from matplotlib import pyplot as plt\n",
    "import tensorflow as tf\n",
    "from tensorflow.contrib.rnn import BasicLSTMCell, static_rnn\n",
    "import sys\n",
    "sys.path.insert(0,'./utils/')\n",
    "from CNNutils import BatchGenerator, preprocess_image, load_data"
   ]
  },
  {
   "cell_type": "code",
   "execution_count": 3,
   "metadata": {
    "collapsed": true
   },
   "outputs": [],
   "source": [
    "# Load cifar-10 dataset, use the first 1000 test samples for testing\n",
    "train_set = load_data(mode='train')\n",
    "test_set = load_data(mode='test')\n",
    "Xtrain, Ytrain = preprocess_image(train_set)\n",
    "Xtest, Ytest = preprocess_image(test_set)\n",
    "Xtest = Xtest[0:1000, :, :]\n",
    "Ytest = Ytest[0:1000]"
   ]
  },
  {
   "cell_type": "code",
   "execution_count": 4,
   "metadata": {},
   "outputs": [
    {
     "name": "stdout",
     "output_type": "stream",
     "text": [
      "(50000, 32, 96)\n"
     ]
    },
    {
     "data": {
      "text/plain": [
       "<matplotlib.image.AxesImage at 0x264509bd978>"
      ]
     },
     "execution_count": 4,
     "metadata": {},
     "output_type": "execute_result"
    },
    {
     "data": {
      "image/png": "[encoded data removed]",
      "text/plain": [
       "<matplotlib.figure.Figure at 0x2647718eb00>"
      ]
     },
     "metadata": {},
     "output_type": "display_data"
    }
   ],
   "source": [
    "# Reshape data to target size. This essentially 'stretches' the data so each pixel's RGB value is lined up in the same row.\n",
    "Xtrain_seq = Xtrain.reshape([-1,32,96])\n",
    "Xtest_seq = Xtest.reshape([-1,32,96])\n",
    "print(Xtrain_seq.shape)\n",
    "plt.imshow(Xtrain_seq[1000], cmap='gray')"
   ]
  },
  {
   "cell_type": "code",
   "execution_count": 5,
   "metadata": {
    "collapsed": true
   },
   "outputs": [],
   "source": [
    "# Create batch generator. Set mini-batch size.\n",
    "gen = BatchGenerator(Xtrain_seq, Ytrain, batch_size=128).initialize()\n",
    "batch_size = 128\n",
    "num_samples = Xtrain.shape[0]\n",
    "sequence_length = 32\n",
    "input_dim = 96\n",
    "n_hidden = 512\n",
    "num_class = 10"
   ]
  },
  {
   "cell_type": "code",
   "execution_count": 6,
   "metadata": {
    "collapsed": true
   },
   "outputs": [],
   "source": [
    "# Define TensorFlow variables\n",
    "X_init = tf.placeholder(tf.float32, [None, sequence_length, input_dim])\n",
    "y = tf.placeholder(tf.int32, [None, ])\n",
    "out_w = tf.Variable(tf.random_normal([n_hidden, num_class], dtype=tf.float32))\n",
    "out_b = tf.Variable(tf.random_normal([num_class]), dtype=tf.float32)\n",
    "y_hot = tf.one_hot(y, 10, on_value=1, off_value=0)"
   ]
  },
  {
   "cell_type": "code",
   "execution_count": 7,
   "metadata": {
    "collapsed": true
   },
   "outputs": [],
   "source": [
    "# Split input tensor to a list, so that it fits into RNN.\n",
    "X = tf.split(X_init, sequence_length, axis=1)\n",
    "X = [tf.squeeze(i, axis=1) for i in X]"
   ]
  },
  {
   "cell_type": "code",
   "execution_count": null,
   "metadata": {
    "collapsed": true
   },
   "outputs": [],
   "source": [
    "# Construct LSTM network\n",
    "lstm = BasicLSTMCell(n_hidden)\n",
    "hidden_initial = tf.zeros([n_hidden,])\n",
    "lstm_output, _ = static_rnn(lstm, X, dtype=tf.float32)\n",
    "\n",
    "# Set loss, accuracy, etc.\n",
    "predictions = tf.matmul(lstm_output[-1], out_w) + out_b\n",
    "loss = tf.reduce_mean(tf.nn.softmax_cross_entropy_with_logits(logits=predictions, labels=y_hot))\n",
    "optimizer = tf.train.AdadeltaOptimizer().minimize(loss)\n",
    "test_pred = tf.equal(tf.argmax(predictions, 1), tf.argmax(y_hot, 1))\n",
    "accuracy = tf.reduce_mean(tf.cast(test_pred, tf.float32))"
   ]
  },
  {
   "cell_type": "code",
   "execution_count": 10,
   "metadata": {
    "scrolled": true
   },
   "outputs": [
    {
     "name": "stdout",
     "output_type": "stream",
     "text": [
      "Epoch 0, loss 2.500906467437744, accuracy 13.140000402927399%\n",
      "Epoch 1, loss 2.4143500328063965, accuracy 14.774000644683838%\n",
      "Epoch 2, loss 2.3446078300476074, accuracy 16.600000858306885%\n",
      "Epoch 3, loss 2.289031505584717, accuracy 18.31600069999695%\n",
      "Epoch 4, loss 2.2445530891418457, accuracy 19.68400329351425%\n",
      "Epoch 5, loss 2.2085087299346924, accuracy 20.764002203941345%\n",
      "Epoch 6, loss 2.1788134574890137, accuracy 21.568000316619873%\n",
      "Epoch 7, loss 2.1538963317871094, accuracy 22.283999621868134%\n",
      "Epoch 8, loss 2.1325981616973877, accuracy 23.05000126361847%\n",
      "Epoch 9, loss 2.11407732963562, accuracy 23.75600039958954%\n",
      "Epoch 10, loss 2.0977227687835693, accuracy 24.371999502182007%\n",
      "Epoch 11, loss 2.083091974258423, accuracy 24.893999099731445%\n",
      "Epoch 12, loss 2.0698602199554443, accuracy 25.415998697280884%\n",
      "Epoch 13, loss 2.057785987854004, accuracy 25.82399845123291%\n",
      "Epoch 14, loss 2.046687364578247, accuracy 26.257997751235962%\n",
      "Epoch 15, loss 2.0364232063293457, accuracy 26.669999957084656%\n",
      "Epoch 16, loss 2.0268826484680176, accuracy 27.065998315811157%\n",
      "Epoch 17, loss 2.017976999282837, accuracy 27.395999431610107%\n",
      "Epoch 18, loss 2.0096325874328613, accuracy 27.757999300956726%\n",
      "Epoch 19, loss 2.001788854598999, accuracy 28.10799777507782%\n",
      "Epoch 20, loss 1.994395136833191, accuracy 28.429996967315674%\n",
      "Epoch 21, loss 1.987406611442566, accuracy 28.715994954109192%\n",
      "Epoch 22, loss 1.9807859659194946, accuracy 28.98399829864502%\n",
      "Epoch 23, loss 1.974500298500061, accuracy 29.2339950799942%\n",
      "Epoch 24, loss 1.968519926071167, accuracy 29.479998350143433%\n",
      "Epoch 25, loss 1.9628198146820068, accuracy 29.75199520587921%\n",
      "Epoch 26, loss 1.9573769569396973, accuracy 29.957997798919678%\n",
      "Epoch 27, loss 1.9521714448928833, accuracy 30.20399808883667%\n",
      "Epoch 28, loss 1.9471845626831055, accuracy 30.427995324134827%\n",
      "Epoch 29, loss 1.9424004554748535, accuracy 30.62800168991089%\n",
      "Epoch 30, loss 1.9378039836883545, accuracy 30.803993344306946%\n",
      "Epoch 31, loss 1.933382272720337, accuracy 30.997994542121887%\n",
      "Epoch 32, loss 1.929122805595398, accuracy 31.199994683265686%\n",
      "Epoch 33, loss 1.925014853477478, accuracy 31.38199746608734%\n",
      "Epoch 34, loss 1.9210484027862549, accuracy 31.491994857788086%\n",
      "Epoch 35, loss 1.9172139167785645, accuracy 31.655997037887573%\n",
      "Epoch 36, loss 1.913503646850586, accuracy 31.807994842529297%\n",
      "Epoch 37, loss 1.9099093675613403, accuracy 31.94599449634552%\n",
      "Epoch 38, loss 1.9064245223999023, accuracy 32.07199573516846%\n",
      "Epoch 39, loss 1.9030423164367676, accuracy 32.19999670982361%\n",
      "Optimization compmlete.\n"
     ]
    }
   ],
   "source": [
    "sess = tf.Session()\n",
    "sess.run(tf.global_variables_initializer())\n",
    "for epoch in range(40):\n",
    "    for _ in range(50000//128):\n",
    "        xbatch, ybatch = next(gen)\n",
    "        sess.run([optimizer], feed_dict={X_init: xbatch, y: ybatch})\n",
    "    l, acc = sess.run([loss, accuracy], feed_dict = {X_init: Xtrain_seq, y: Ytrain})\n",
    "    print('Epoch {}, loss {}, accuracy {}%'.format(epoch, l, acc*100))\n",
    "        \n",
    "print('Optimization compmlete.')"
   ]
  },
  {
   "cell_type": "code",
   "execution_count": 14,
   "metadata": {},
   "outputs": [
    {
     "data": {
      "text/plain": [
       "[0.31999999]"
      ]
     },
     "execution_count": 14,
     "metadata": {},
     "output_type": "execute_result"
    }
   ],
   "source": [
    "# Test on test batch\n",
    "acc = sess.run([accuracy], feed_dict = {X_init: Xtest_seq, y: Ytest})\n",
    "acc"
   ]
  },
  {
   "cell_type": "code",
   "execution_count": null,
   "metadata": {
    "collapsed": true
   },
   "outputs": [],
   "source": []
  }
 ],
 "metadata": {
  "kernelspec": {
   "display_name": "Python 3",
   "language": "python",
   "name": "python3"
  },
  "language_info": {
   "codemirror_mode": {
    "name": "ipython",
    "version": 3
   },
   "file_extension": ".py",
   "mimetype": "text/x-python",
   "name": "python",
   "nbconvert_exporter": "python",
   "pygments_lexer": "ipython3",
   "version": "3.5.3"
  }
 },
 "nbformat": 4,
 "nbformat_minor": 2
}
