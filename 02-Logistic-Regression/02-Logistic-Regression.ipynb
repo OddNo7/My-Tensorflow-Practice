{
 "cells": [
  {
   "cell_type": "code",
   "execution_count": null,
   "metadata": {
    "collapsed": true,
    "deletable": true,
    "editable": true
   },
   "outputs": [],
   "source": [
    "# My-Tensorflow-Practice\n",
    "# Author: OddNo7\n",
    "# Date created: 2017/3/24\n",
    "# Reference: aymericdamien/TensorFlow-Examples\n",
    "# https://github.com/aymericdamien/TensorFlow-Examples/blob/master/examples/2_BasicModels/logistic_regression.py\n",
    "\n",
    "# I wrote this for getting a hold of Tensorflow and for fun. For official documentations, please go to tensorflow.org\n",
    "\n",
    "import tensorflow as tf\n",
    "import numpy as np\n",
    "from tensorflow.examples.tutorials.mnist import input_data"
   ]
  },
  {
   "cell_type": "code",
   "execution_count": null,
   "metadata": {
    "collapsed": false,
    "deletable": true,
    "editable": true
   },
   "outputs": [],
   "source": [
    "# The idea of logistic regression is to let the log odds of y given x can\n",
    "# be described by Wx+b. That is, ln(p(y=1|x)/p(y=-1|x))=x^t*w+b.\n",
    "# This would yield a sigmoid function with W and b unknown.\n",
    "# For multiclass problems, we can use softmax in replace of sigmoid.\n",
    "\n",
    "mnist = input_data.read_data_sets(\"./tmp/data\", one_hot=True)\n",
    "num_train = 55000\n",
    "batch_size = 50\n",
    "epochs = 50\n",
    "lr = 0.01"
   ]
  },
  {
   "cell_type": "code",
   "execution_count": null,
   "metadata": {
    "collapsed": false,
    "deletable": true,
    "editable": true
   },
   "outputs": [],
   "source": [
    "with tf.device('/gpu:0'):\n",
    "    x = tf.placeholder(tf.float32, [None, 784])\n",
    "    y = tf.placeholder(tf.float32, [None, 10])\n",
    "    W = tf.Variable(tf.random_uniform([784, 10]), dtype=tf.float32)\n",
    "    b = tf.Variable(tf.random_uniform([1, 10]), dtype=tf.float32)\n",
    "    pred = tf.matmul(x, W) + b# Use cross entropy for this multiclass classification problem\n",
    "    loss = tf.reduce_mean(\n",
    "        tf.nn.softmax_cross_entropy_with_logits(labels=y, logits=pred))\n",
    "    optimizer = tf.train.GradientDescentOptimizer(lr).minimize(loss)\n",
    "    test_prediction = tf.equal(tf.argmax(pred, 1), tf.argmax(y, 1))\n",
    "    accuracy = tf.reduce_mean(tf.cast(test_prediction, tf.float32))\n",
    "\n",
    "Xte = mnist.test.images\n",
    "Yte = mnist.test.labels\n",
    "num_batch = int(num_train / batch_size)\n",
    "# Train the model\n",
    "with tf.Session(config=tf.ConfigProto(log_device_placement=True)) as sess:\n",
    "    sess.run(tf.global_variables_initializer())\n",
    "    for epoch in range(epochs):\n",
    "        cost_this_epoch = 0\n",
    "        for i in range(num_batch):\n",
    "            xtr, ytr = mnist.train.next_batch(batch_size)\n",
    "            _, l = sess.run([optimizer, loss], feed_dict={x: xtr, y: ytr})\n",
    "            cost_this_epoch += l * batch_size # Calculate total loss\n",
    "        print('Epoch {} done. Loss: {:5f}'.format(epoch, cost_this_epoch))\n",
    "    acc = sess.run(accuracy, feed_dict={x: Xte, y: Yte})  \n",
    "    print('Accuracy is {:2f}%'.format(acc * 100))"
   ]
  },
  {
   "cell_type": "code",
   "execution_count": null,
   "metadata": {
    "collapsed": true
   },
   "outputs": [],
   "source": [
    ""
   ]
  }
 ],
 "metadata": {
  "kernelspec": {
   "display_name": "Python 3",
   "language": "python",
   "name": "python3"
  },
  "language_info": {
   "codemirror_mode": {
    "name": "ipython",
    "version": 3.0
   },
   "file_extension": ".py",
   "mimetype": "text/x-python",
   "name": "python",
   "nbconvert_exporter": "python",
   "pygments_lexer": "ipython3",
   "version": "3.5.3"
  }
 },
 "nbformat": 4,
 "nbformat_minor": 0
}