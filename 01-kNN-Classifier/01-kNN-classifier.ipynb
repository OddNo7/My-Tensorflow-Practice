{
 "cells": [
  {
   "cell_type": "markdown",
   "metadata": {},
   "source": [
    "# kNN classifier"
   ]
  },
  {
   "cell_type": "markdown",
   "metadata": {},
   "source": [
    "My-Tensorflow-Practice\n",
    "\n",
    "01-kNN-Classifier\n",
    "\n",
    "Author: OddNo7\n",
    "\n",
    "Last modified: 2017/04/13"
   ]
  },
  {
   "cell_type": "code",
   "execution_count": null,
   "metadata": {
    "collapsed": true
   },
   "outputs": [],
   "source": [
    "# Use MNIST hand-written digits for this practice\n",
    "import numpy as np\n",
    "import tensorflow as tf\n",
    "from tensorflow.examples.tutorials.mnist import input_data"
   ]
  },
  {
   "cell_type": "code",
   "execution_count": null,
   "metadata": {
    "collapsed": true
   },
   "outputs": [],
   "source": [
    "# Specify a subset of MNIST as training set and test set\n",
    "test_size = 400\n",
    "train_size = 20000\n",
    "# Since MNIST contains 10 categories, use a bigger K could possibly reach\n",
    "# a better output.\n",
    "K = 13"
   ]
  },
  {
   "cell_type": "code",
   "execution_count": null,
   "metadata": {},
   "outputs": [],
   "source": [
    "# Load data\n",
    "mnist = input_data.read_data_sets(\"/tmp/data\", one_hot=True)\n",
    "Xtr, Ytr = mnist.train.next_batch(train_size)\n",
    "Xte, Yte = mnist.test.next_batch(test_size)"
   ]
  },
  {
   "cell_type": "code",
   "execution_count": null,
   "metadata": {
    "collapsed": true
   },
   "outputs": [],
   "source": [
    "# Each time compute Euclidean distance across the training set\n",
    "xtr = tf.placeholder(tf.float32, shape=[None, 784])\n",
    "xte = tf.placeholder(tf.float32, shape=[784])  # Feed one test sample each time\n",
    "ytr = tf.placeholder(tf.float32, shape=[None, 10])\n",
    "\n",
    "# Calculate Euclidean distance for each dimension, then sum up\n",
    "distance = tf.reduce_sum(tf.square(xtr - xte), reduction_indices=1)\n",
    "_, ind = tf.nn.top_k(-distance, k=K)  # Fine indices of top K neighbors\n",
    "\n",
    "nearest_neighbor = []\n",
    "for i in range(K):\n",
    "    nearest_neighbor.append(ytr[ind[i], :])\n",
    "# Voting: Each neighbor vote for a class. Summing their ground truths\n",
    "# therefore helps predict the test's label.\n",
    "# Gather the y-label of these neighbors and sum up. Find argmax since the labels are one-hot vectors.\n",
    "kneighbors = tf.transpose(tf.pack(nearest_neighbor, axis=1))\n",
    "pred = tf.argmax(tf.reduce_sum(kneighbors, reduction_indices=0), axis=0)"
   ]
  },
  {
   "cell_type": "code",
   "execution_count": null,
   "metadata": {},
   "outputs": [],
   "source": [
    "count = 0\n",
    "with tf.Session() as sess:\n",
    "    sess.run(tf.global_variables_initializer())\n",
    "    for index in range(len(Xte)):\n",
    "        inpt = Xte[index, :]\n",
    "        label = sess.run(pred, feed_dict={xtr: Xtr, ytr: Ytr, xte: inpt})\n",
    "        print('{}-th test, pred={}, truth={}'.format(index,\n",
    "                                                     label, np.argmax(Yte[index])))\n",
    "        if label == np.argmax(Yte[index]):\n",
    "            count += 1\n",
    "    print('Total accuracy: {:f}%.'.format(count / test_size * 100))"
   ]
  }
 ],
 "metadata": {
  "celltoolbar": "Raw Cell Format",
  "kernelspec": {
   "display_name": "Python 3",
   "language": "python",
   "name": "python3"
  },
  "language_info": {
   "codemirror_mode": {
    "name": "ipython",
    "version": 3
   },
   "file_extension": ".py",
   "mimetype": "text/x-python",
   "name": "python",
   "nbconvert_exporter": "python",
   "pygments_lexer": "ipython3",
   "version": "3.5.3"
  }
 },
 "nbformat": 4,
 "nbformat_minor": 1
}
